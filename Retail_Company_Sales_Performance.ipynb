{
  "cells": [
    {
      "cell_type": "markdown",
      "metadata": {
        "id": "ENtK8fJkG-Sp"
      },
      "source": [
        "# Aulia Rahim Nugrahani\n",
        "https://www.linkedin.com/in/auliarnugrahani/\n",
        "\n",
        "Mini Case by Rakamin Academy, Data Sciece 101\n",
        "\n",
        "##Introduction\n",
        "Sebuah perusahaan ritel online, dengan pelanggan yang sudah tersebar dari berbagai negara. Perusahaan memiliki data penjualan yang berisi semua transaksi yang terjadi di tahun 2009-2011. Perusahaan ingin tahu bagaimana performa penjualan dalam kurun waktu 3 tahun terakhir.\n",
        "\n",
        "Section 1: Menganalisis Rata-Rata Pendapatan Per Tahun\n",
        "\n",
        "Section 2: Menganalisis Transaksi Pelanggan Per Tahun\n",
        "\n",
        "\n"
      ],
      "id": "ENtK8fJkG-Sp"
    },
    {
      "cell_type": "markdown",
      "metadata": {
        "id": "ae0654e1"
      },
      "source": [
        "# Import Library"
      ],
      "id": "ae0654e1"
    },
    {
      "cell_type": "code",
      "execution_count": null,
      "metadata": {
        "id": "Cf5tKx4j_9XS"
      },
      "outputs": [],
      "source": [
        "import numpy as np\n",
        "import pandas as pd\n",
        "import matplotlib.pyplot as plt\n",
        "import seaborn as sns\n",
        "plt.style.use('ggplot')\n",
        "\n",
        "import warnings\n",
        "warnings.filterwarnings('ignore')"
      ],
      "id": "Cf5tKx4j_9XS"
    },
    {
      "cell_type": "code",
      "execution_count": null,
      "metadata": {
        "colab": {
          "base_uri": "https://localhost:8080/"
        },
        "id": "h4IfKbxO8RT3",
        "outputId": "1bd01946-13e8-4037-b45f-7006f4d8dd44"
      },
      "outputs": [
        {
          "name": "stdout",
          "output_type": "stream",
          "text": [
            "Mounted at /content/drive\n"
          ]
        }
      ],
      "source": [
        "from google.colab import drive\n",
        "drive.mount('/content/drive')"
      ],
      "id": "h4IfKbxO8RT3"
    },
    {
      "cell_type": "code",
      "execution_count": null,
      "metadata": {
        "id": "GrU8tVxnFJul"
      },
      "outputs": [],
      "source": [
        "from matplotlib import rcParams\n",
        "\n",
        "rcParams['figure.figsize'] = 10, 5\n",
        "rcParams['lines.linewidth'] = 3\n",
        "rcParams['xtick.labelsize'] = 'x-large'\n",
        "rcParams['ytick.labelsize'] = 'x-large'"
      ],
      "id": "GrU8tVxnFJul"
    },
    {
      "cell_type": "markdown",
      "metadata": {
        "id": "578645f2"
      },
      "source": [
        "# Mengukur Performa Penjualan Ritel Online"
      ],
      "id": "578645f2"
    },
    {
      "cell_type": "markdown",
      "metadata": {
        "id": "ebf52fe7"
      },
      "source": [
        "## Load Data"
      ],
      "id": "ebf52fe7"
    },
    {
      "cell_type": "code",
      "execution_count": null,
      "metadata": {
        "id": "6c4b0183"
      },
      "outputs": [],
      "source": [
        "df = pd.read_csv('/content/drive/MyDrive/DS/homework/Salinan online_retail_II.csv')"
      ],
      "id": "6c4b0183"
    },
    {
      "cell_type": "code",
      "execution_count": null,
      "metadata": {
        "colab": {
          "base_uri": "https://localhost:8080/",
          "height": 419
        },
        "id": "5sg_8CrSJ6_5",
        "outputId": "7527b3ba-009f-46b8-d8f5-3f0a2d906284"
      },
      "outputs": [
        {
          "data": {
            "text/html": [
              "<div>\n",
              "<style scoped>\n",
              "    .dataframe tbody tr th:only-of-type {\n",
              "        vertical-align: middle;\n",
              "    }\n",
              "\n",
              "    .dataframe tbody tr th {\n",
              "        vertical-align: top;\n",
              "    }\n",
              "\n",
              "    .dataframe thead th {\n",
              "        text-align: right;\n",
              "    }\n",
              "</style>\n",
              "<table border=\"1\" class=\"dataframe\">\n",
              "  <thead>\n",
              "    <tr style=\"text-align: right;\">\n",
              "      <th></th>\n",
              "      <th>Invoice</th>\n",
              "      <th>StockCode</th>\n",
              "      <th>Description</th>\n",
              "      <th>Quantity</th>\n",
              "      <th>InvoiceDate</th>\n",
              "      <th>Price</th>\n",
              "      <th>Customer ID</th>\n",
              "      <th>Country</th>\n",
              "    </tr>\n",
              "  </thead>\n",
              "  <tbody>\n",
              "    <tr>\n",
              "      <th>0</th>\n",
              "      <td>489434</td>\n",
              "      <td>85048</td>\n",
              "      <td>15CM CHRISTMAS GLASS BALL 20 LIGHTS</td>\n",
              "      <td>12</td>\n",
              "      <td>2009-12-01 07:45:00</td>\n",
              "      <td>6.95</td>\n",
              "      <td>13085.0</td>\n",
              "      <td>United Kingdom</td>\n",
              "    </tr>\n",
              "    <tr>\n",
              "      <th>1</th>\n",
              "      <td>489434</td>\n",
              "      <td>79323P</td>\n",
              "      <td>PINK CHERRY LIGHTS</td>\n",
              "      <td>12</td>\n",
              "      <td>2009-12-01 07:45:00</td>\n",
              "      <td>6.75</td>\n",
              "      <td>13085.0</td>\n",
              "      <td>United Kingdom</td>\n",
              "    </tr>\n",
              "    <tr>\n",
              "      <th>2</th>\n",
              "      <td>489434</td>\n",
              "      <td>79323W</td>\n",
              "      <td>WHITE CHERRY LIGHTS</td>\n",
              "      <td>12</td>\n",
              "      <td>2009-12-01 07:45:00</td>\n",
              "      <td>6.75</td>\n",
              "      <td>13085.0</td>\n",
              "      <td>United Kingdom</td>\n",
              "    </tr>\n",
              "    <tr>\n",
              "      <th>3</th>\n",
              "      <td>489434</td>\n",
              "      <td>22041</td>\n",
              "      <td>RECORD FRAME 7\" SINGLE SIZE</td>\n",
              "      <td>48</td>\n",
              "      <td>2009-12-01 07:45:00</td>\n",
              "      <td>2.10</td>\n",
              "      <td>13085.0</td>\n",
              "      <td>United Kingdom</td>\n",
              "    </tr>\n",
              "    <tr>\n",
              "      <th>4</th>\n",
              "      <td>489434</td>\n",
              "      <td>21232</td>\n",
              "      <td>STRAWBERRY CERAMIC TRINKET BOX</td>\n",
              "      <td>24</td>\n",
              "      <td>2009-12-01 07:45:00</td>\n",
              "      <td>1.25</td>\n",
              "      <td>13085.0</td>\n",
              "      <td>United Kingdom</td>\n",
              "    </tr>\n",
              "    <tr>\n",
              "      <th>...</th>\n",
              "      <td>...</td>\n",
              "      <td>...</td>\n",
              "      <td>...</td>\n",
              "      <td>...</td>\n",
              "      <td>...</td>\n",
              "      <td>...</td>\n",
              "      <td>...</td>\n",
              "      <td>...</td>\n",
              "    </tr>\n",
              "    <tr>\n",
              "      <th>1067366</th>\n",
              "      <td>581587</td>\n",
              "      <td>22899</td>\n",
              "      <td>CHILDREN'S APRON DOLLY GIRL</td>\n",
              "      <td>6</td>\n",
              "      <td>2011-12-09 12:50:00</td>\n",
              "      <td>2.10</td>\n",
              "      <td>12680.0</td>\n",
              "      <td>France</td>\n",
              "    </tr>\n",
              "    <tr>\n",
              "      <th>1067367</th>\n",
              "      <td>581587</td>\n",
              "      <td>23254</td>\n",
              "      <td>CHILDRENS CUTLERY DOLLY GIRL</td>\n",
              "      <td>4</td>\n",
              "      <td>2011-12-09 12:50:00</td>\n",
              "      <td>4.15</td>\n",
              "      <td>12680.0</td>\n",
              "      <td>France</td>\n",
              "    </tr>\n",
              "    <tr>\n",
              "      <th>1067368</th>\n",
              "      <td>581587</td>\n",
              "      <td>23255</td>\n",
              "      <td>CHILDRENS CUTLERY CIRCUS PARADE</td>\n",
              "      <td>4</td>\n",
              "      <td>2011-12-09 12:50:00</td>\n",
              "      <td>4.15</td>\n",
              "      <td>12680.0</td>\n",
              "      <td>France</td>\n",
              "    </tr>\n",
              "    <tr>\n",
              "      <th>1067369</th>\n",
              "      <td>581587</td>\n",
              "      <td>22138</td>\n",
              "      <td>BAKING SET 9 PIECE RETROSPOT</td>\n",
              "      <td>3</td>\n",
              "      <td>2011-12-09 12:50:00</td>\n",
              "      <td>4.95</td>\n",
              "      <td>12680.0</td>\n",
              "      <td>France</td>\n",
              "    </tr>\n",
              "    <tr>\n",
              "      <th>1067370</th>\n",
              "      <td>581587</td>\n",
              "      <td>POST</td>\n",
              "      <td>POSTAGE</td>\n",
              "      <td>1</td>\n",
              "      <td>2011-12-09 12:50:00</td>\n",
              "      <td>18.00</td>\n",
              "      <td>12680.0</td>\n",
              "      <td>France</td>\n",
              "    </tr>\n",
              "  </tbody>\n",
              "</table>\n",
              "<p>1067371 rows × 8 columns</p>\n",
              "</div>"
            ],
            "text/plain": [
              "        Invoice StockCode  ... Customer ID         Country\n",
              "0        489434     85048  ...     13085.0  United Kingdom\n",
              "1        489434    79323P  ...     13085.0  United Kingdom\n",
              "2        489434    79323W  ...     13085.0  United Kingdom\n",
              "3        489434     22041  ...     13085.0  United Kingdom\n",
              "4        489434     21232  ...     13085.0  United Kingdom\n",
              "...         ...       ...  ...         ...             ...\n",
              "1067366  581587     22899  ...     12680.0          France\n",
              "1067367  581587     23254  ...     12680.0          France\n",
              "1067368  581587     23255  ...     12680.0          France\n",
              "1067369  581587     22138  ...     12680.0          France\n",
              "1067370  581587      POST  ...     12680.0          France\n",
              "\n",
              "[1067371 rows x 8 columns]"
            ]
          },
          "execution_count": 6,
          "metadata": {},
          "output_type": "execute_result"
        }
      ],
      "source": [
        "df"
      ],
      "id": "5sg_8CrSJ6_5"
    },
    {
      "cell_type": "code",
      "execution_count": null,
      "metadata": {
        "colab": {
          "base_uri": "https://localhost:8080/"
        },
        "id": "iR10ITl5KQX3",
        "outputId": "8cb695be-d76a-44e3-9675-12816e11f6c4"
      },
      "outputs": [
        {
          "name": "stdout",
          "output_type": "stream",
          "text": [
            "<class 'pandas.core.frame.DataFrame'>\n",
            "RangeIndex: 1067371 entries, 0 to 1067370\n",
            "Data columns (total 8 columns):\n",
            " #   Column       Non-Null Count    Dtype  \n",
            "---  ------       --------------    -----  \n",
            " 0   Invoice      1067371 non-null  object \n",
            " 1   StockCode    1067371 non-null  object \n",
            " 2   Description  1062989 non-null  object \n",
            " 3   Quantity     1067371 non-null  int64  \n",
            " 4   InvoiceDate  1067371 non-null  object \n",
            " 5   Price        1067371 non-null  float64\n",
            " 6   Customer ID  824364 non-null   float64\n",
            " 7   Country      1067371 non-null  object \n",
            "dtypes: float64(2), int64(1), object(5)\n",
            "memory usage: 65.1+ MB\n"
          ]
        }
      ],
      "source": [
        "df.info()"
      ],
      "id": "iR10ITl5KQX3"
    },
    {
      "cell_type": "markdown",
      "metadata": {
        "id": "feuJuS9WKp2b"
      },
      "source": [
        "\n",
        "*   Dataframe memiliki total 1067371 baris dan 8 kolom\n",
        "*   Dataframe masih memiliki null values di kolom Description, dan Customer ID\n",
        "\n"
      ],
      "id": "feuJuS9WKp2b"
    },
    {
      "cell_type": "code",
      "execution_count": null,
      "metadata": {
        "colab": {
          "base_uri": "https://localhost:8080/",
          "height": 359
        },
        "id": "tEAar2c1KgK1",
        "outputId": "5ef82fc1-8f0d-4ccd-f7e2-d31120ee29c7"
      },
      "outputs": [
        {
          "data": {
            "text/html": [
              "<div>\n",
              "<style scoped>\n",
              "    .dataframe tbody tr th:only-of-type {\n",
              "        vertical-align: middle;\n",
              "    }\n",
              "\n",
              "    .dataframe tbody tr th {\n",
              "        vertical-align: top;\n",
              "    }\n",
              "\n",
              "    .dataframe thead th {\n",
              "        text-align: right;\n",
              "    }\n",
              "</style>\n",
              "<table border=\"1\" class=\"dataframe\">\n",
              "  <thead>\n",
              "    <tr style=\"text-align: right;\">\n",
              "      <th></th>\n",
              "      <th>Invoice</th>\n",
              "      <th>StockCode</th>\n",
              "      <th>Description</th>\n",
              "      <th>Quantity</th>\n",
              "      <th>InvoiceDate</th>\n",
              "      <th>Price</th>\n",
              "      <th>Customer ID</th>\n",
              "      <th>Country</th>\n",
              "    </tr>\n",
              "  </thead>\n",
              "  <tbody>\n",
              "    <tr>\n",
              "      <th>617701</th>\n",
              "      <td>544186</td>\n",
              "      <td>21171</td>\n",
              "      <td>BATHROOM METAL SIGN</td>\n",
              "      <td>1</td>\n",
              "      <td>2011-02-16 15:55:00</td>\n",
              "      <td>3.29</td>\n",
              "      <td>NaN</td>\n",
              "      <td>United Kingdom</td>\n",
              "    </tr>\n",
              "    <tr>\n",
              "      <th>560469</th>\n",
              "      <td>539434</td>\n",
              "      <td>22310</td>\n",
              "      <td>IVORY KNITTED MUG COSY</td>\n",
              "      <td>5</td>\n",
              "      <td>2010-12-17 14:41:00</td>\n",
              "      <td>3.36</td>\n",
              "      <td>NaN</td>\n",
              "      <td>United Kingdom</td>\n",
              "    </tr>\n",
              "    <tr>\n",
              "      <th>1029222</th>\n",
              "      <td>578935</td>\n",
              "      <td>23489</td>\n",
              "      <td>VINTAGE BELLS GARLAND</td>\n",
              "      <td>3</td>\n",
              "      <td>2011-11-27 12:52:00</td>\n",
              "      <td>2.89</td>\n",
              "      <td>15351.0</td>\n",
              "      <td>United Kingdom</td>\n",
              "    </tr>\n",
              "    <tr>\n",
              "      <th>555460</th>\n",
              "      <td>538839</td>\n",
              "      <td>21539</td>\n",
              "      <td>RED RETROSPOT BUTTER DISH</td>\n",
              "      <td>1</td>\n",
              "      <td>2010-12-14 13:10:00</td>\n",
              "      <td>4.95</td>\n",
              "      <td>14606.0</td>\n",
              "      <td>United Kingdom</td>\n",
              "    </tr>\n",
              "    <tr>\n",
              "      <th>696161</th>\n",
              "      <td>551340</td>\n",
              "      <td>21781</td>\n",
              "      <td>MA CAMPAGNE CUTLERY BOX</td>\n",
              "      <td>1</td>\n",
              "      <td>2011-04-27 17:23:00</td>\n",
              "      <td>29.13</td>\n",
              "      <td>NaN</td>\n",
              "      <td>United Kingdom</td>\n",
              "    </tr>\n",
              "    <tr>\n",
              "      <th>809843</th>\n",
              "      <td>561870</td>\n",
              "      <td>22300</td>\n",
              "      <td>COFFEE MUG DOG + BALL DESIGN</td>\n",
              "      <td>6</td>\n",
              "      <td>2011-07-31 11:45:00</td>\n",
              "      <td>2.55</td>\n",
              "      <td>14911.0</td>\n",
              "      <td>EIRE</td>\n",
              "    </tr>\n",
              "    <tr>\n",
              "      <th>304005</th>\n",
              "      <td>519024</td>\n",
              "      <td>21531</td>\n",
              "      <td>RED RETROSPOT SUGAR JAM BOWL</td>\n",
              "      <td>1</td>\n",
              "      <td>2010-08-13 09:22:00</td>\n",
              "      <td>5.06</td>\n",
              "      <td>NaN</td>\n",
              "      <td>United Kingdom</td>\n",
              "    </tr>\n",
              "    <tr>\n",
              "      <th>1052727</th>\n",
              "      <td>580697</td>\n",
              "      <td>21683</td>\n",
              "      <td>MEDIUM MEDINA STAMPED METAL BOWL</td>\n",
              "      <td>6</td>\n",
              "      <td>2011-12-05 16:05:00</td>\n",
              "      <td>2.95</td>\n",
              "      <td>15984.0</td>\n",
              "      <td>United Kingdom</td>\n",
              "    </tr>\n",
              "    <tr>\n",
              "      <th>133786</th>\n",
              "      <td>502093</td>\n",
              "      <td>84520B</td>\n",
              "      <td>PACK 20 ENGLISH ROSE PAPER NAPKINS</td>\n",
              "      <td>3</td>\n",
              "      <td>2010-03-22 17:32:00</td>\n",
              "      <td>0.85</td>\n",
              "      <td>16823.0</td>\n",
              "      <td>United Kingdom</td>\n",
              "    </tr>\n",
              "    <tr>\n",
              "      <th>464932</th>\n",
              "      <td>533301</td>\n",
              "      <td>21506</td>\n",
              "      <td>FANCY FONT BIRTHDAY CARD,</td>\n",
              "      <td>12</td>\n",
              "      <td>2010-11-16 16:46:00</td>\n",
              "      <td>0.42</td>\n",
              "      <td>15811.0</td>\n",
              "      <td>United Kingdom</td>\n",
              "    </tr>\n",
              "  </tbody>\n",
              "</table>\n",
              "</div>"
            ],
            "text/plain": [
              "        Invoice StockCode  ... Customer ID         Country\n",
              "617701   544186     21171  ...         NaN  United Kingdom\n",
              "560469   539434     22310  ...         NaN  United Kingdom\n",
              "1029222  578935     23489  ...     15351.0  United Kingdom\n",
              "555460   538839     21539  ...     14606.0  United Kingdom\n",
              "696161   551340     21781  ...         NaN  United Kingdom\n",
              "809843   561870     22300  ...     14911.0            EIRE\n",
              "304005   519024     21531  ...         NaN  United Kingdom\n",
              "1052727  580697     21683  ...     15984.0  United Kingdom\n",
              "133786   502093    84520B  ...     16823.0  United Kingdom\n",
              "464932   533301     21506  ...     15811.0  United Kingdom\n",
              "\n",
              "[10 rows x 8 columns]"
            ]
          },
          "execution_count": 8,
          "metadata": {},
          "output_type": "execute_result"
        }
      ],
      "source": [
        "df.sample(10)"
      ],
      "id": "tEAar2c1KgK1"
    },
    {
      "cell_type": "markdown",
      "metadata": {
        "id": "794e2063"
      },
      "source": [
        "## Section 1"
      ],
      "id": "794e2063"
    },
    {
      "cell_type": "markdown",
      "metadata": {
        "id": "0ead195f"
      },
      "source": [
        "### Create New Feature: Year"
      ],
      "id": "0ead195f"
    },
    {
      "cell_type": "code",
      "execution_count": null,
      "metadata": {
        "colab": {
          "base_uri": "https://localhost:8080/"
        },
        "id": "KpKPfQhdPJx5",
        "outputId": "2ece411a-3137-43b9-b911-243f706173a7"
      },
      "outputs": [
        {
          "data": {
            "text/plain": [
              "0         2009-12-01 07:45:00\n",
              "1         2009-12-01 07:45:00\n",
              "2         2009-12-01 07:45:00\n",
              "3         2009-12-01 07:45:00\n",
              "4         2009-12-01 07:45:00\n",
              "                  ...        \n",
              "1067366   2011-12-09 12:50:00\n",
              "1067367   2011-12-09 12:50:00\n",
              "1067368   2011-12-09 12:50:00\n",
              "1067369   2011-12-09 12:50:00\n",
              "1067370   2011-12-09 12:50:00\n",
              "Name: InvoiceDate, Length: 1067371, dtype: datetime64[ns]"
            ]
          },
          "execution_count": 10,
          "metadata": {},
          "output_type": "execute_result"
        }
      ],
      "source": [
        "df['InvoiceDate'].astype('datetime64[ns]')"
      ],
      "id": "KpKPfQhdPJx5"
    },
    {
      "cell_type": "code",
      "execution_count": null,
      "metadata": {
        "id": "5a1281e7"
      },
      "outputs": [],
      "source": [
        "df['Year'] = pd.DatetimeIndex(df['InvoiceDate']).year"
      ],
      "id": "5a1281e7"
    },
    {
      "cell_type": "code",
      "execution_count": null,
      "metadata": {
        "colab": {
          "base_uri": "https://localhost:8080/"
        },
        "id": "5BDqtC-DUlsP",
        "outputId": "cc47dcc0-c79b-4190-b539-262d50443267"
      },
      "outputs": [
        {
          "data": {
            "text/plain": [
              "0          2009\n",
              "1          2009\n",
              "2          2009\n",
              "3          2009\n",
              "4          2009\n",
              "           ... \n",
              "1067366    2011\n",
              "1067367    2011\n",
              "1067368    2011\n",
              "1067369    2011\n",
              "1067370    2011\n",
              "Name: Year, Length: 1067371, dtype: int64"
            ]
          },
          "execution_count": 11,
          "metadata": {},
          "output_type": "execute_result"
        }
      ],
      "source": [
        "df['Year']"
      ],
      "id": "5BDqtC-DUlsP"
    },
    {
      "cell_type": "code",
      "execution_count": null,
      "metadata": {
        "colab": {
          "base_uri": "https://localhost:8080/"
        },
        "id": "Cxj-DIPzWm5B",
        "outputId": "396320e4-4294-4e34-9c08-aa626e322fae"
      },
      "outputs": [
        {
          "name": "stdout",
          "output_type": "stream",
          "text": [
            "<class 'pandas.core.frame.DataFrame'>\n",
            "RangeIndex: 1067371 entries, 0 to 1067370\n",
            "Data columns (total 9 columns):\n",
            " #   Column       Non-Null Count    Dtype  \n",
            "---  ------       --------------    -----  \n",
            " 0   Invoice      1067371 non-null  object \n",
            " 1   StockCode    1067371 non-null  object \n",
            " 2   Description  1062989 non-null  object \n",
            " 3   Quantity     1067371 non-null  int64  \n",
            " 4   InvoiceDate  1067371 non-null  object \n",
            " 5   Price        1067371 non-null  float64\n",
            " 6   Customer ID  824364 non-null   float64\n",
            " 7   Country      1067371 non-null  object \n",
            " 8   Year         1067371 non-null  int64  \n",
            "dtypes: float64(2), int64(2), object(5)\n",
            "memory usage: 73.3+ MB\n"
          ]
        }
      ],
      "source": [
        "df.info()"
      ],
      "id": "Cxj-DIPzWm5B"
    },
    {
      "cell_type": "markdown",
      "metadata": {
        "id": "9a9f5438"
      },
      "source": [
        "### Filtering Data"
      ],
      "id": "9a9f5438"
    },
    {
      "cell_type": "code",
      "execution_count": null,
      "metadata": {
        "colab": {
          "background_save": true,
          "base_uri": "https://localhost:8080/",
          "height": 419
        },
        "id": "547a9e99",
        "outputId": "ed532f37-de3c-4e8b-e0a9-b2dd56342419"
      },
      "outputs": [
        {
          "ename": "NameError",
          "evalue": "ignored",
          "output_type": "error",
          "traceback": [
            "\u001b[0;31m---------------------------------------------------------------------------\u001b[0m",
            "\u001b[0;31mNameError\u001b[0m                                 Traceback (most recent call last)",
            "\u001b[0;32m<ipython-input-1-f62b9781da78>\u001b[0m in \u001b[0;36m<module>\u001b[0;34m()\u001b[0m\n\u001b[0;32m----> 1\u001b[0;31m \u001b[0mdf\u001b[0m\u001b[0;34m[\u001b[0m\u001b[0mdf\u001b[0m\u001b[0;34m[\u001b[0m\u001b[0;34m'Quantity'\u001b[0m\u001b[0;34m]\u001b[0m\u001b[0;34m>=\u001b[0m\u001b[0;36m1\u001b[0m\u001b[0;34m]\u001b[0m\u001b[0;34m\u001b[0m\u001b[0;34m\u001b[0m\u001b[0m\n\u001b[0m",
            "\u001b[0;31mNameError\u001b[0m: name 'df' is not defined"
          ]
        }
      ],
      "source": [
        "df[df['Quantity']>=1]"
      ],
      "id": "547a9e99"
    },
    {
      "cell_type": "code",
      "execution_count": null,
      "metadata": {
        "colab": {
          "background_save": true
        },
        "id": "n6opYkdWdkzV"
      },
      "outputs": [],
      "source": [
        "sales = df[(df['Quantity'] > 0) & (df['Invoice'].str.contains(\"C\") == False)]"
      ],
      "id": "n6opYkdWdkzV"
    },
    {
      "cell_type": "code",
      "execution_count": null,
      "metadata": {
        "colab": {
          "background_save": true
        },
        "id": "BQjIc3VyeVTv"
      },
      "outputs": [],
      "source": [
        "sales"
      ],
      "id": "BQjIc3VyeVTv"
    },
    {
      "cell_type": "markdown",
      "metadata": {
        "id": "0bef109f"
      },
      "source": [
        "### Create New Feature: Revenue"
      ],
      "id": "0bef109f"
    },
    {
      "cell_type": "code",
      "execution_count": null,
      "metadata": {
        "id": "XYNNlU1Jj4AM"
      },
      "outputs": [],
      "source": [
        "revenue = df['Quantity'] * df['Price']"
      ],
      "id": "XYNNlU1Jj4AM"
    },
    {
      "cell_type": "code",
      "execution_count": null,
      "metadata": {
        "colab": {
          "base_uri": "https://localhost:8080/"
        },
        "id": "Xd1jkqdCkdyJ",
        "outputId": "27334ed6-1299-41cc-f8a9-4b6e647be468"
      },
      "outputs": [
        {
          "data": {
            "text/plain": [
              "0     83.4\n",
              "1     81.0\n",
              "2     81.0\n",
              "3    100.8\n",
              "4     30.0\n",
              "dtype: float64"
            ]
          },
          "execution_count": 17,
          "metadata": {},
          "output_type": "execute_result"
        }
      ],
      "source": [
        "revenue.head()"
      ],
      "id": "Xd1jkqdCkdyJ"
    },
    {
      "cell_type": "code",
      "execution_count": null,
      "metadata": {
        "id": "ZSiszejFn2IG"
      },
      "outputs": [],
      "source": [
        "df.insert(8,\"Revenue\",df['Quantity'] * df['Price'],True)"
      ],
      "id": "ZSiszejFn2IG"
    },
    {
      "cell_type": "code",
      "execution_count": null,
      "metadata": {
        "colab": {
          "base_uri": "https://localhost:8080/",
          "height": 419
        },
        "id": "ElkXdGm_n_dg",
        "outputId": "362b4039-a64b-4e4a-a26f-f5b3c2a835eb"
      },
      "outputs": [
        {
          "data": {
            "text/html": [
              "<div>\n",
              "<style scoped>\n",
              "    .dataframe tbody tr th:only-of-type {\n",
              "        vertical-align: middle;\n",
              "    }\n",
              "\n",
              "    .dataframe tbody tr th {\n",
              "        vertical-align: top;\n",
              "    }\n",
              "\n",
              "    .dataframe thead th {\n",
              "        text-align: right;\n",
              "    }\n",
              "</style>\n",
              "<table border=\"1\" class=\"dataframe\">\n",
              "  <thead>\n",
              "    <tr style=\"text-align: right;\">\n",
              "      <th></th>\n",
              "      <th>Invoice</th>\n",
              "      <th>StockCode</th>\n",
              "      <th>Description</th>\n",
              "      <th>Quantity</th>\n",
              "      <th>InvoiceDate</th>\n",
              "      <th>Price</th>\n",
              "      <th>Customer ID</th>\n",
              "      <th>Country</th>\n",
              "      <th>Revenue</th>\n",
              "      <th>Year</th>\n",
              "    </tr>\n",
              "  </thead>\n",
              "  <tbody>\n",
              "    <tr>\n",
              "      <th>0</th>\n",
              "      <td>489434</td>\n",
              "      <td>85048</td>\n",
              "      <td>15CM CHRISTMAS GLASS BALL 20 LIGHTS</td>\n",
              "      <td>12</td>\n",
              "      <td>2009-12-01 07:45:00</td>\n",
              "      <td>6.95</td>\n",
              "      <td>13085.0</td>\n",
              "      <td>United Kingdom</td>\n",
              "      <td>83.40</td>\n",
              "      <td>2009</td>\n",
              "    </tr>\n",
              "    <tr>\n",
              "      <th>1</th>\n",
              "      <td>489434</td>\n",
              "      <td>79323P</td>\n",
              "      <td>PINK CHERRY LIGHTS</td>\n",
              "      <td>12</td>\n",
              "      <td>2009-12-01 07:45:00</td>\n",
              "      <td>6.75</td>\n",
              "      <td>13085.0</td>\n",
              "      <td>United Kingdom</td>\n",
              "      <td>81.00</td>\n",
              "      <td>2009</td>\n",
              "    </tr>\n",
              "    <tr>\n",
              "      <th>2</th>\n",
              "      <td>489434</td>\n",
              "      <td>79323W</td>\n",
              "      <td>WHITE CHERRY LIGHTS</td>\n",
              "      <td>12</td>\n",
              "      <td>2009-12-01 07:45:00</td>\n",
              "      <td>6.75</td>\n",
              "      <td>13085.0</td>\n",
              "      <td>United Kingdom</td>\n",
              "      <td>81.00</td>\n",
              "      <td>2009</td>\n",
              "    </tr>\n",
              "    <tr>\n",
              "      <th>3</th>\n",
              "      <td>489434</td>\n",
              "      <td>22041</td>\n",
              "      <td>RECORD FRAME 7\" SINGLE SIZE</td>\n",
              "      <td>48</td>\n",
              "      <td>2009-12-01 07:45:00</td>\n",
              "      <td>2.10</td>\n",
              "      <td>13085.0</td>\n",
              "      <td>United Kingdom</td>\n",
              "      <td>100.80</td>\n",
              "      <td>2009</td>\n",
              "    </tr>\n",
              "    <tr>\n",
              "      <th>4</th>\n",
              "      <td>489434</td>\n",
              "      <td>21232</td>\n",
              "      <td>STRAWBERRY CERAMIC TRINKET BOX</td>\n",
              "      <td>24</td>\n",
              "      <td>2009-12-01 07:45:00</td>\n",
              "      <td>1.25</td>\n",
              "      <td>13085.0</td>\n",
              "      <td>United Kingdom</td>\n",
              "      <td>30.00</td>\n",
              "      <td>2009</td>\n",
              "    </tr>\n",
              "    <tr>\n",
              "      <th>...</th>\n",
              "      <td>...</td>\n",
              "      <td>...</td>\n",
              "      <td>...</td>\n",
              "      <td>...</td>\n",
              "      <td>...</td>\n",
              "      <td>...</td>\n",
              "      <td>...</td>\n",
              "      <td>...</td>\n",
              "      <td>...</td>\n",
              "      <td>...</td>\n",
              "    </tr>\n",
              "    <tr>\n",
              "      <th>1067366</th>\n",
              "      <td>581587</td>\n",
              "      <td>22899</td>\n",
              "      <td>CHILDREN'S APRON DOLLY GIRL</td>\n",
              "      <td>6</td>\n",
              "      <td>2011-12-09 12:50:00</td>\n",
              "      <td>2.10</td>\n",
              "      <td>12680.0</td>\n",
              "      <td>France</td>\n",
              "      <td>12.60</td>\n",
              "      <td>2011</td>\n",
              "    </tr>\n",
              "    <tr>\n",
              "      <th>1067367</th>\n",
              "      <td>581587</td>\n",
              "      <td>23254</td>\n",
              "      <td>CHILDRENS CUTLERY DOLLY GIRL</td>\n",
              "      <td>4</td>\n",
              "      <td>2011-12-09 12:50:00</td>\n",
              "      <td>4.15</td>\n",
              "      <td>12680.0</td>\n",
              "      <td>France</td>\n",
              "      <td>16.60</td>\n",
              "      <td>2011</td>\n",
              "    </tr>\n",
              "    <tr>\n",
              "      <th>1067368</th>\n",
              "      <td>581587</td>\n",
              "      <td>23255</td>\n",
              "      <td>CHILDRENS CUTLERY CIRCUS PARADE</td>\n",
              "      <td>4</td>\n",
              "      <td>2011-12-09 12:50:00</td>\n",
              "      <td>4.15</td>\n",
              "      <td>12680.0</td>\n",
              "      <td>France</td>\n",
              "      <td>16.60</td>\n",
              "      <td>2011</td>\n",
              "    </tr>\n",
              "    <tr>\n",
              "      <th>1067369</th>\n",
              "      <td>581587</td>\n",
              "      <td>22138</td>\n",
              "      <td>BAKING SET 9 PIECE RETROSPOT</td>\n",
              "      <td>3</td>\n",
              "      <td>2011-12-09 12:50:00</td>\n",
              "      <td>4.95</td>\n",
              "      <td>12680.0</td>\n",
              "      <td>France</td>\n",
              "      <td>14.85</td>\n",
              "      <td>2011</td>\n",
              "    </tr>\n",
              "    <tr>\n",
              "      <th>1067370</th>\n",
              "      <td>581587</td>\n",
              "      <td>POST</td>\n",
              "      <td>POSTAGE</td>\n",
              "      <td>1</td>\n",
              "      <td>2011-12-09 12:50:00</td>\n",
              "      <td>18.00</td>\n",
              "      <td>12680.0</td>\n",
              "      <td>France</td>\n",
              "      <td>18.00</td>\n",
              "      <td>2011</td>\n",
              "    </tr>\n",
              "  </tbody>\n",
              "</table>\n",
              "<p>1067371 rows × 10 columns</p>\n",
              "</div>"
            ],
            "text/plain": [
              "        Invoice StockCode  ... Revenue  Year\n",
              "0        489434     85048  ...   83.40  2009\n",
              "1        489434    79323P  ...   81.00  2009\n",
              "2        489434    79323W  ...   81.00  2009\n",
              "3        489434     22041  ...  100.80  2009\n",
              "4        489434     21232  ...   30.00  2009\n",
              "...         ...       ...  ...     ...   ...\n",
              "1067366  581587     22899  ...   12.60  2011\n",
              "1067367  581587     23254  ...   16.60  2011\n",
              "1067368  581587     23255  ...   16.60  2011\n",
              "1067369  581587     22138  ...   14.85  2011\n",
              "1067370  581587      POST  ...   18.00  2011\n",
              "\n",
              "[1067371 rows x 10 columns]"
            ]
          },
          "execution_count": 20,
          "metadata": {},
          "output_type": "execute_result"
        }
      ],
      "source": [
        "df"
      ],
      "id": "ElkXdGm_n_dg"
    },
    {
      "cell_type": "markdown",
      "metadata": {
        "id": "c955f053"
      },
      "source": [
        "### Average of Revenue per Year"
      ],
      "id": "c955f053"
    },
    {
      "cell_type": "code",
      "execution_count": null,
      "metadata": {
        "id": "NtogS6iK1KXq"
      },
      "outputs": [],
      "source": [
        "y= df.groupby(['Year'])['Revenue'].mean()"
      ],
      "id": "NtogS6iK1KXq"
    },
    {
      "cell_type": "code",
      "execution_count": null,
      "metadata": {
        "colab": {
          "base_uri": "https://localhost:8080/"
        },
        "id": "46ee8xSXd6cS",
        "outputId": "b3343637-7343-452e-86c4-c962896acda7"
      },
      "outputs": [
        {
          "data": {
            "text/plain": [
              "Year\n",
              "2009    17.684777\n",
              "2010    18.152555\n",
              "2011    18.018195\n",
              "Name: Revenue, dtype: float64"
            ]
          },
          "execution_count": 22,
          "metadata": {},
          "output_type": "execute_result"
        }
      ],
      "source": [
        "y"
      ],
      "id": "46ee8xSXd6cS"
    },
    {
      "cell_type": "code",
      "execution_count": null,
      "metadata": {
        "colab": {
          "base_uri": "https://localhost:8080/",
          "height": 358
        },
        "id": "GyijSQizDUdj",
        "outputId": "d1a7ac70-0263-442b-b198-dbc786f63543"
      },
      "outputs": [
        {
          "data": {
            "image/png": "[encoded data removed]",
            "text/plain": [
              "<Figure size 720x360 with 1 Axes>"
            ]
          },
          "metadata": {},
          "output_type": "display_data"
        }
      ],
      "source": [
        "x = df['Year'].unique() \n",
        "fig, ax=plt.subplots()\n",
        "x = ['2009','2010', '2011']\n",
        "plt.title('Average of Revenue Per Year')\n",
        "plt.xlabel('Year')\n",
        "plt.ylabel('Avg Revenue')\n",
        "ax.plot(x,y)\n",
        "plt.show()"
      ],
      "id": "GyijSQizDUdj"
    },
    {
      "cell_type": "code",
      "execution_count": null,
      "metadata": {
        "colab": {
          "base_uri": "https://localhost:8080/",
          "height": 204
        },
        "id": "aZGiefrNFrXz",
        "outputId": "17aa8e19-d838-447c-bb70-f349c4500acb"
      },
      "outputs": [
        {
          "data": {
            "text/html": [
              "<div>\n",
              "<style scoped>\n",
              "    .dataframe tbody tr th:only-of-type {\n",
              "        vertical-align: middle;\n",
              "    }\n",
              "\n",
              "    .dataframe tbody tr th {\n",
              "        vertical-align: top;\n",
              "    }\n",
              "\n",
              "    .dataframe thead th {\n",
              "        text-align: right;\n",
              "    }\n",
              "</style>\n",
              "<table border=\"1\" class=\"dataframe\">\n",
              "  <thead>\n",
              "    <tr style=\"text-align: right;\">\n",
              "      <th></th>\n",
              "      <th>Quantity</th>\n",
              "      <th>Price</th>\n",
              "      <th>Customer ID</th>\n",
              "      <th>Revenue</th>\n",
              "      <th>Year</th>\n",
              "    </tr>\n",
              "  </thead>\n",
              "  <tbody>\n",
              "    <tr>\n",
              "      <th>Quantity</th>\n",
              "      <td>1.000000</td>\n",
              "      <td>-0.001319</td>\n",
              "      <td>-0.005430</td>\n",
              "      <td>0.762623</td>\n",
              "      <td>-0.000947</td>\n",
              "    </tr>\n",
              "    <tr>\n",
              "      <th>Price</th>\n",
              "      <td>-0.001319</td>\n",
              "      <td>1.000000</td>\n",
              "      <td>-0.003835</td>\n",
              "      <td>0.061029</td>\n",
              "      <td>-0.000948</td>\n",
              "    </tr>\n",
              "    <tr>\n",
              "      <th>Customer ID</th>\n",
              "      <td>-0.005430</td>\n",
              "      <td>-0.003835</td>\n",
              "      <td>1.000000</td>\n",
              "      <td>-0.003122</td>\n",
              "      <td>-0.031163</td>\n",
              "    </tr>\n",
              "    <tr>\n",
              "      <th>Revenue</th>\n",
              "      <td>0.762623</td>\n",
              "      <td>0.061029</td>\n",
              "      <td>-0.003122</td>\n",
              "      <td>1.000000</td>\n",
              "      <td>-0.000047</td>\n",
              "    </tr>\n",
              "    <tr>\n",
              "      <th>Year</th>\n",
              "      <td>-0.000947</td>\n",
              "      <td>-0.000948</td>\n",
              "      <td>-0.031163</td>\n",
              "      <td>-0.000047</td>\n",
              "      <td>1.000000</td>\n",
              "    </tr>\n",
              "  </tbody>\n",
              "</table>\n",
              "</div>"
            ],
            "text/plain": [
              "             Quantity     Price  Customer ID   Revenue      Year\n",
              "Quantity     1.000000 -0.001319    -0.005430  0.762623 -0.000947\n",
              "Price       -0.001319  1.000000    -0.003835  0.061029 -0.000948\n",
              "Customer ID -0.005430 -0.003835     1.000000 -0.003122 -0.031163\n",
              "Revenue      0.762623  0.061029    -0.003122  1.000000 -0.000047\n",
              "Year        -0.000947 -0.000948    -0.031163 -0.000047  1.000000"
            ]
          },
          "execution_count": 24,
          "metadata": {},
          "output_type": "execute_result"
        }
      ],
      "source": [
        "df.corr()"
      ],
      "id": "aZGiefrNFrXz"
    },
    {
      "cell_type": "code",
      "execution_count": null,
      "metadata": {
        "colab": {
          "base_uri": "https://localhost:8080/",
          "height": 422
        },
        "id": "6tkAV4PaFubu",
        "outputId": "05ab7ad9-f3bb-461d-ea14-7d50c6a58578"
      },
      "outputs": [
        {
          "data": {
            "text/plain": [
              "<matplotlib.axes._subplots.AxesSubplot at 0x7eff9bc20450>"
            ]
          },
          "execution_count": 27,
          "metadata": {},
          "output_type": "execute_result"
        },
        {
          "data": {
            "image/png": "[encoded data removed]",
            "text/plain": [
              "<Figure size 360x360 with 2 Axes>"
            ]
          },
          "metadata": {},
          "output_type": "display_data"
        }
      ],
      "source": [
        "plt.figure(figsize=(5,5))\n",
        "sns.heatmap(df.corr(),cmap='Blues',annot=True, fmt='.2f')"
      ],
      "id": "6tkAV4PaFubu"
    },
    {
      "cell_type": "markdown",
      "metadata": {
        "id": "8823e17c"
      },
      "source": [
        "### Interpretation"
      ],
      "id": "8823e17c"
    },
    {
      "cell_type": "markdown",
      "metadata": {
        "id": "3739a278"
      },
      "source": [
        "Dalam 3 tahun terakhir, penjualan di perusahaan X menghasilkan rata-rata revenue terendah pada tahun 2009 kemudian mengalami kenaikan di tahun 2010 dan slightly turun di tahun 2011. \n",
        "\n",
        "Berdasarkan hasil uji korelasi, Revenue memiliki korelasi yang kuat terhadap Quantity. "
      ],
      "id": "3739a278"
    },
    {
      "cell_type": "markdown",
      "metadata": {
        "id": "4ff5f5d4"
      },
      "source": [
        "## Section 2"
      ],
      "id": "4ff5f5d4"
    },
    {
      "cell_type": "markdown",
      "metadata": {
        "id": "8dadd5ef"
      },
      "source": [
        "### Filtering Data "
      ],
      "id": "8dadd5ef"
    },
    {
      "cell_type": "markdown",
      "metadata": {
        "id": "2c053fd2"
      },
      "source": [
        "#### Customers who finished their purchases"
      ],
      "id": "2c053fd2"
    },
    {
      "cell_type": "code",
      "execution_count": null,
      "metadata": {
        "colab": {
          "base_uri": "https://localhost:8080/",
          "height": 419
        },
        "id": "d992a159",
        "outputId": "384c9fde-02f9-4db2-b098-7cf3703e9d87"
      },
      "outputs": [
        {
          "data": {
            "text/html": [
              "<div>\n",
              "<style scoped>\n",
              "    .dataframe tbody tr th:only-of-type {\n",
              "        vertical-align: middle;\n",
              "    }\n",
              "\n",
              "    .dataframe tbody tr th {\n",
              "        vertical-align: top;\n",
              "    }\n",
              "\n",
              "    .dataframe thead th {\n",
              "        text-align: right;\n",
              "    }\n",
              "</style>\n",
              "<table border=\"1\" class=\"dataframe\">\n",
              "  <thead>\n",
              "    <tr style=\"text-align: right;\">\n",
              "      <th></th>\n",
              "      <th>Invoice</th>\n",
              "      <th>StockCode</th>\n",
              "      <th>Description</th>\n",
              "      <th>Quantity</th>\n",
              "      <th>InvoiceDate</th>\n",
              "      <th>Price</th>\n",
              "      <th>Customer ID</th>\n",
              "      <th>Country</th>\n",
              "      <th>Year</th>\n",
              "    </tr>\n",
              "  </thead>\n",
              "  <tbody>\n",
              "    <tr>\n",
              "      <th>0</th>\n",
              "      <td>489434</td>\n",
              "      <td>85048</td>\n",
              "      <td>15CM CHRISTMAS GLASS BALL 20 LIGHTS</td>\n",
              "      <td>12</td>\n",
              "      <td>2009-12-01 07:45:00</td>\n",
              "      <td>6.95</td>\n",
              "      <td>13085.0</td>\n",
              "      <td>United Kingdom</td>\n",
              "      <td>2009</td>\n",
              "    </tr>\n",
              "    <tr>\n",
              "      <th>1</th>\n",
              "      <td>489434</td>\n",
              "      <td>79323P</td>\n",
              "      <td>PINK CHERRY LIGHTS</td>\n",
              "      <td>12</td>\n",
              "      <td>2009-12-01 07:45:00</td>\n",
              "      <td>6.75</td>\n",
              "      <td>13085.0</td>\n",
              "      <td>United Kingdom</td>\n",
              "      <td>2009</td>\n",
              "    </tr>\n",
              "    <tr>\n",
              "      <th>2</th>\n",
              "      <td>489434</td>\n",
              "      <td>79323W</td>\n",
              "      <td>WHITE CHERRY LIGHTS</td>\n",
              "      <td>12</td>\n",
              "      <td>2009-12-01 07:45:00</td>\n",
              "      <td>6.75</td>\n",
              "      <td>13085.0</td>\n",
              "      <td>United Kingdom</td>\n",
              "      <td>2009</td>\n",
              "    </tr>\n",
              "    <tr>\n",
              "      <th>3</th>\n",
              "      <td>489434</td>\n",
              "      <td>22041</td>\n",
              "      <td>RECORD FRAME 7\" SINGLE SIZE</td>\n",
              "      <td>48</td>\n",
              "      <td>2009-12-01 07:45:00</td>\n",
              "      <td>2.10</td>\n",
              "      <td>13085.0</td>\n",
              "      <td>United Kingdom</td>\n",
              "      <td>2009</td>\n",
              "    </tr>\n",
              "    <tr>\n",
              "      <th>4</th>\n",
              "      <td>489434</td>\n",
              "      <td>21232</td>\n",
              "      <td>STRAWBERRY CERAMIC TRINKET BOX</td>\n",
              "      <td>24</td>\n",
              "      <td>2009-12-01 07:45:00</td>\n",
              "      <td>1.25</td>\n",
              "      <td>13085.0</td>\n",
              "      <td>United Kingdom</td>\n",
              "      <td>2009</td>\n",
              "    </tr>\n",
              "    <tr>\n",
              "      <th>...</th>\n",
              "      <td>...</td>\n",
              "      <td>...</td>\n",
              "      <td>...</td>\n",
              "      <td>...</td>\n",
              "      <td>...</td>\n",
              "      <td>...</td>\n",
              "      <td>...</td>\n",
              "      <td>...</td>\n",
              "      <td>...</td>\n",
              "    </tr>\n",
              "    <tr>\n",
              "      <th>1067366</th>\n",
              "      <td>581587</td>\n",
              "      <td>22899</td>\n",
              "      <td>CHILDREN'S APRON DOLLY GIRL</td>\n",
              "      <td>6</td>\n",
              "      <td>2011-12-09 12:50:00</td>\n",
              "      <td>2.10</td>\n",
              "      <td>12680.0</td>\n",
              "      <td>France</td>\n",
              "      <td>2011</td>\n",
              "    </tr>\n",
              "    <tr>\n",
              "      <th>1067367</th>\n",
              "      <td>581587</td>\n",
              "      <td>23254</td>\n",
              "      <td>CHILDRENS CUTLERY DOLLY GIRL</td>\n",
              "      <td>4</td>\n",
              "      <td>2011-12-09 12:50:00</td>\n",
              "      <td>4.15</td>\n",
              "      <td>12680.0</td>\n",
              "      <td>France</td>\n",
              "      <td>2011</td>\n",
              "    </tr>\n",
              "    <tr>\n",
              "      <th>1067368</th>\n",
              "      <td>581587</td>\n",
              "      <td>23255</td>\n",
              "      <td>CHILDRENS CUTLERY CIRCUS PARADE</td>\n",
              "      <td>4</td>\n",
              "      <td>2011-12-09 12:50:00</td>\n",
              "      <td>4.15</td>\n",
              "      <td>12680.0</td>\n",
              "      <td>France</td>\n",
              "      <td>2011</td>\n",
              "    </tr>\n",
              "    <tr>\n",
              "      <th>1067369</th>\n",
              "      <td>581587</td>\n",
              "      <td>22138</td>\n",
              "      <td>BAKING SET 9 PIECE RETROSPOT</td>\n",
              "      <td>3</td>\n",
              "      <td>2011-12-09 12:50:00</td>\n",
              "      <td>4.95</td>\n",
              "      <td>12680.0</td>\n",
              "      <td>France</td>\n",
              "      <td>2011</td>\n",
              "    </tr>\n",
              "    <tr>\n",
              "      <th>1067370</th>\n",
              "      <td>581587</td>\n",
              "      <td>POST</td>\n",
              "      <td>POSTAGE</td>\n",
              "      <td>1</td>\n",
              "      <td>2011-12-09 12:50:00</td>\n",
              "      <td>18.00</td>\n",
              "      <td>12680.0</td>\n",
              "      <td>France</td>\n",
              "      <td>2011</td>\n",
              "    </tr>\n",
              "  </tbody>\n",
              "</table>\n",
              "<p>824364 rows × 9 columns</p>\n",
              "</div>"
            ],
            "text/plain": [
              "        Invoice StockCode  ...         Country  Year\n",
              "0        489434     85048  ...  United Kingdom  2009\n",
              "1        489434    79323P  ...  United Kingdom  2009\n",
              "2        489434    79323W  ...  United Kingdom  2009\n",
              "3        489434     22041  ...  United Kingdom  2009\n",
              "4        489434     21232  ...  United Kingdom  2009\n",
              "...         ...       ...  ...             ...   ...\n",
              "1067366  581587     22899  ...          France  2011\n",
              "1067367  581587     23254  ...          France  2011\n",
              "1067368  581587     23255  ...          France  2011\n",
              "1067369  581587     22138  ...          France  2011\n",
              "1067370  581587      POST  ...          France  2011\n",
              "\n",
              "[824364 rows x 9 columns]"
            ]
          },
          "execution_count": 18,
          "metadata": {},
          "output_type": "execute_result"
        }
      ],
      "source": [
        "finished = df.dropna(axis=0, subset=['Customer ID'])\n",
        "finished"
      ],
      "id": "d992a159"
    },
    {
      "cell_type": "code",
      "execution_count": null,
      "metadata": {
        "colab": {
          "base_uri": "https://localhost:8080/"
        },
        "id": "SX9mDnJ7JZiv",
        "outputId": "01beb07e-d07f-44b7-c4d9-b3f9b0823fcb"
      },
      "outputs": [
        {
          "data": {
            "text/plain": [
              "0"
            ]
          },
          "execution_count": 19,
          "metadata": {},
          "output_type": "execute_result"
        }
      ],
      "source": [
        "finished['Customer ID'].isnull().sum()"
      ],
      "id": "SX9mDnJ7JZiv"
    },
    {
      "cell_type": "code",
      "execution_count": null,
      "metadata": {
        "colab": {
          "base_uri": "https://localhost:8080/"
        },
        "id": "13AKKtbbcFWW",
        "outputId": "25b17718-d953-47cc-9f3e-0c78c56081b0"
      },
      "outputs": [
        {
          "name": "stdout",
          "output_type": "stream",
          "text": [
            "<class 'pandas.core.frame.DataFrame'>\n",
            "Int64Index: 824364 entries, 0 to 1067370\n",
            "Data columns (total 9 columns):\n",
            " #   Column       Non-Null Count   Dtype  \n",
            "---  ------       --------------   -----  \n",
            " 0   Invoice      824364 non-null  object \n",
            " 1   StockCode    824364 non-null  object \n",
            " 2   Description  824364 non-null  object \n",
            " 3   Quantity     824364 non-null  int64  \n",
            " 4   InvoiceDate  824364 non-null  object \n",
            " 5   Price        824364 non-null  float64\n",
            " 6   Customer ID  824364 non-null  float64\n",
            " 7   Country      824364 non-null  object \n",
            " 8   Year         824364 non-null  int64  \n",
            "dtypes: float64(2), int64(2), object(5)\n",
            "memory usage: 62.9+ MB\n"
          ]
        }
      ],
      "source": [
        "finished.info()"
      ],
      "id": "13AKKtbbcFWW"
    },
    {
      "cell_type": "code",
      "execution_count": null,
      "metadata": {
        "colab": {
          "base_uri": "https://localhost:8080/"
        },
        "id": "qNDPhLO5cAaR",
        "outputId": "4ddf5fe9-e899-414d-c9e4-e31fb508100c"
      },
      "outputs": [
        {
          "data": {
            "text/plain": [
              "0         2009-12-01 07:45:00\n",
              "1         2009-12-01 07:45:00\n",
              "2         2009-12-01 07:45:00\n",
              "3         2009-12-01 07:45:00\n",
              "4         2009-12-01 07:45:00\n",
              "                  ...        \n",
              "1067366   2011-12-09 12:50:00\n",
              "1067367   2011-12-09 12:50:00\n",
              "1067368   2011-12-09 12:50:00\n",
              "1067369   2011-12-09 12:50:00\n",
              "1067370   2011-12-09 12:50:00\n",
              "Name: InvoiceDate, Length: 824364, dtype: datetime64[ns]"
            ]
          },
          "execution_count": 21,
          "metadata": {},
          "output_type": "execute_result"
        }
      ],
      "source": [
        "finished['InvoiceDate'].astype('datetime64[ns]')"
      ],
      "id": "qNDPhLO5cAaR"
    },
    {
      "cell_type": "markdown",
      "metadata": {
        "id": "136b9900"
      },
      "source": [
        "#### Customers who canceled their purchases"
      ],
      "id": "136b9900"
    },
    {
      "cell_type": "code",
      "execution_count": null,
      "metadata": {
        "colab": {
          "base_uri": "https://localhost:8080/",
          "height": 419
        },
        "id": "JowFXh8gV3H-",
        "outputId": "23500c81-bba1-4596-ec9e-c445f005dc0c"
      },
      "outputs": [
        {
          "data": {
            "text/html": [
              "<div>\n",
              "<style scoped>\n",
              "    .dataframe tbody tr th:only-of-type {\n",
              "        vertical-align: middle;\n",
              "    }\n",
              "\n",
              "    .dataframe tbody tr th {\n",
              "        vertical-align: top;\n",
              "    }\n",
              "\n",
              "    .dataframe thead th {\n",
              "        text-align: right;\n",
              "    }\n",
              "</style>\n",
              "<table border=\"1\" class=\"dataframe\">\n",
              "  <thead>\n",
              "    <tr style=\"text-align: right;\">\n",
              "      <th></th>\n",
              "      <th>Invoice</th>\n",
              "      <th>StockCode</th>\n",
              "      <th>Description</th>\n",
              "      <th>Quantity</th>\n",
              "      <th>InvoiceDate</th>\n",
              "      <th>Price</th>\n",
              "      <th>Customer ID</th>\n",
              "      <th>Country</th>\n",
              "      <th>Year</th>\n",
              "    </tr>\n",
              "  </thead>\n",
              "  <tbody>\n",
              "    <tr>\n",
              "      <th>178</th>\n",
              "      <td>C489449</td>\n",
              "      <td>22087</td>\n",
              "      <td>PAPER BUNTING WHITE LACE</td>\n",
              "      <td>-12</td>\n",
              "      <td>2009-12-01 10:33:00</td>\n",
              "      <td>2.95</td>\n",
              "      <td>16321.0</td>\n",
              "      <td>Australia</td>\n",
              "      <td>2009</td>\n",
              "    </tr>\n",
              "    <tr>\n",
              "      <th>179</th>\n",
              "      <td>C489449</td>\n",
              "      <td>85206A</td>\n",
              "      <td>CREAM FELT EASTER EGG BASKET</td>\n",
              "      <td>-6</td>\n",
              "      <td>2009-12-01 10:33:00</td>\n",
              "      <td>1.65</td>\n",
              "      <td>16321.0</td>\n",
              "      <td>Australia</td>\n",
              "      <td>2009</td>\n",
              "    </tr>\n",
              "    <tr>\n",
              "      <th>180</th>\n",
              "      <td>C489449</td>\n",
              "      <td>21895</td>\n",
              "      <td>POTTING SHED SOW 'N' GROW SET</td>\n",
              "      <td>-4</td>\n",
              "      <td>2009-12-01 10:33:00</td>\n",
              "      <td>4.25</td>\n",
              "      <td>16321.0</td>\n",
              "      <td>Australia</td>\n",
              "      <td>2009</td>\n",
              "    </tr>\n",
              "    <tr>\n",
              "      <th>181</th>\n",
              "      <td>C489449</td>\n",
              "      <td>21896</td>\n",
              "      <td>POTTING SHED TWINE</td>\n",
              "      <td>-6</td>\n",
              "      <td>2009-12-01 10:33:00</td>\n",
              "      <td>2.10</td>\n",
              "      <td>16321.0</td>\n",
              "      <td>Australia</td>\n",
              "      <td>2009</td>\n",
              "    </tr>\n",
              "    <tr>\n",
              "      <th>182</th>\n",
              "      <td>C489449</td>\n",
              "      <td>22083</td>\n",
              "      <td>PAPER CHAIN KIT RETRO SPOT</td>\n",
              "      <td>-12</td>\n",
              "      <td>2009-12-01 10:33:00</td>\n",
              "      <td>2.95</td>\n",
              "      <td>16321.0</td>\n",
              "      <td>Australia</td>\n",
              "      <td>2009</td>\n",
              "    </tr>\n",
              "    <tr>\n",
              "      <th>...</th>\n",
              "      <td>...</td>\n",
              "      <td>...</td>\n",
              "      <td>...</td>\n",
              "      <td>...</td>\n",
              "      <td>...</td>\n",
              "      <td>...</td>\n",
              "      <td>...</td>\n",
              "      <td>...</td>\n",
              "      <td>...</td>\n",
              "    </tr>\n",
              "    <tr>\n",
              "      <th>1065910</th>\n",
              "      <td>C581490</td>\n",
              "      <td>23144</td>\n",
              "      <td>ZINC T-LIGHT HOLDER STARS SMALL</td>\n",
              "      <td>-11</td>\n",
              "      <td>2011-12-09 09:57:00</td>\n",
              "      <td>0.83</td>\n",
              "      <td>14397.0</td>\n",
              "      <td>United Kingdom</td>\n",
              "      <td>2011</td>\n",
              "    </tr>\n",
              "    <tr>\n",
              "      <th>1067002</th>\n",
              "      <td>C581499</td>\n",
              "      <td>M</td>\n",
              "      <td>Manual</td>\n",
              "      <td>-1</td>\n",
              "      <td>2011-12-09 10:28:00</td>\n",
              "      <td>224.69</td>\n",
              "      <td>15498.0</td>\n",
              "      <td>United Kingdom</td>\n",
              "      <td>2011</td>\n",
              "    </tr>\n",
              "    <tr>\n",
              "      <th>1067176</th>\n",
              "      <td>C581568</td>\n",
              "      <td>21258</td>\n",
              "      <td>VICTORIAN SEWING BOX LARGE</td>\n",
              "      <td>-5</td>\n",
              "      <td>2011-12-09 11:57:00</td>\n",
              "      <td>10.95</td>\n",
              "      <td>15311.0</td>\n",
              "      <td>United Kingdom</td>\n",
              "      <td>2011</td>\n",
              "    </tr>\n",
              "    <tr>\n",
              "      <th>1067177</th>\n",
              "      <td>C581569</td>\n",
              "      <td>84978</td>\n",
              "      <td>HANGING HEART JAR T-LIGHT HOLDER</td>\n",
              "      <td>-1</td>\n",
              "      <td>2011-12-09 11:58:00</td>\n",
              "      <td>1.25</td>\n",
              "      <td>17315.0</td>\n",
              "      <td>United Kingdom</td>\n",
              "      <td>2011</td>\n",
              "    </tr>\n",
              "    <tr>\n",
              "      <th>1067178</th>\n",
              "      <td>C581569</td>\n",
              "      <td>20979</td>\n",
              "      <td>36 PENCILS TUBE RED RETROSPOT</td>\n",
              "      <td>-5</td>\n",
              "      <td>2011-12-09 11:58:00</td>\n",
              "      <td>1.25</td>\n",
              "      <td>17315.0</td>\n",
              "      <td>United Kingdom</td>\n",
              "      <td>2011</td>\n",
              "    </tr>\n",
              "  </tbody>\n",
              "</table>\n",
              "<p>19494 rows × 9 columns</p>\n",
              "</div>"
            ],
            "text/plain": [
              "         Invoice StockCode  ...         Country  Year\n",
              "178      C489449     22087  ...       Australia  2009\n",
              "179      C489449    85206A  ...       Australia  2009\n",
              "180      C489449     21895  ...       Australia  2009\n",
              "181      C489449     21896  ...       Australia  2009\n",
              "182      C489449     22083  ...       Australia  2009\n",
              "...          ...       ...  ...             ...   ...\n",
              "1065910  C581490     23144  ...  United Kingdom  2011\n",
              "1067002  C581499         M  ...  United Kingdom  2011\n",
              "1067176  C581568     21258  ...  United Kingdom  2011\n",
              "1067177  C581569     84978  ...  United Kingdom  2011\n",
              "1067178  C581569     20979  ...  United Kingdom  2011\n",
              "\n",
              "[19494 rows x 9 columns]"
            ]
          },
          "execution_count": 31,
          "metadata": {},
          "output_type": "execute_result"
        }
      ],
      "source": [
        "canceled = df[df['Invoice'].str.contains(\"C\") == True]\n",
        "canceled"
      ],
      "id": "JowFXh8gV3H-"
    },
    {
      "cell_type": "code",
      "execution_count": null,
      "metadata": {
        "colab": {
          "base_uri": "https://localhost:8080/"
        },
        "id": "98af92ed",
        "outputId": "7709b895-cc95-4469-8430-22661d469417"
      },
      "outputs": [
        {
          "name": "stdout",
          "output_type": "stream",
          "text": [
            "<class 'pandas.core.frame.DataFrame'>\n",
            "Int64Index: 19494 entries, 178 to 1067178\n",
            "Data columns (total 9 columns):\n",
            " #   Column       Non-Null Count  Dtype  \n",
            "---  ------       --------------  -----  \n",
            " 0   Invoice      19494 non-null  object \n",
            " 1   StockCode    19494 non-null  object \n",
            " 2   Description  19494 non-null  object \n",
            " 3   Quantity     19494 non-null  int64  \n",
            " 4   InvoiceDate  19494 non-null  object \n",
            " 5   Price        19494 non-null  float64\n",
            " 6   Customer ID  18744 non-null  float64\n",
            " 7   Country      19494 non-null  object \n",
            " 8   Year         19494 non-null  int64  \n",
            "dtypes: float64(2), int64(2), object(5)\n",
            "memory usage: 1.5+ MB\n"
          ]
        }
      ],
      "source": [
        "canceled.info()"
      ],
      "id": "98af92ed"
    },
    {
      "cell_type": "code",
      "execution_count": null,
      "metadata": {
        "colab": {
          "base_uri": "https://localhost:8080/"
        },
        "id": "YpLqTzwKcn6U",
        "outputId": "a9117204-8464-45d1-c7b5-1fa71531c24b"
      },
      "outputs": [
        {
          "data": {
            "text/plain": [
              "178       2009-12-01 10:33:00\n",
              "179       2009-12-01 10:33:00\n",
              "180       2009-12-01 10:33:00\n",
              "181       2009-12-01 10:33:00\n",
              "182       2009-12-01 10:33:00\n",
              "                  ...        \n",
              "1065910   2011-12-09 09:57:00\n",
              "1067002   2011-12-09 10:28:00\n",
              "1067176   2011-12-09 11:57:00\n",
              "1067177   2011-12-09 11:58:00\n",
              "1067178   2011-12-09 11:58:00\n",
              "Name: InvoiceDate, Length: 19494, dtype: datetime64[ns]"
            ]
          },
          "execution_count": 33,
          "metadata": {},
          "output_type": "execute_result"
        }
      ],
      "source": [
        "canceled['InvoiceDate'].astype('datetime64[ns]')"
      ],
      "id": "YpLqTzwKcn6U"
    },
    {
      "cell_type": "markdown",
      "metadata": {
        "id": "d3fbb31a"
      },
      "source": [
        "### Number of Finished and Canceled Transactions Each Year"
      ],
      "id": "d3fbb31a"
    },
    {
      "cell_type": "code",
      "execution_count": null,
      "metadata": {
        "id": "KD_5vCuGgcGh"
      },
      "outputs": [],
      "source": [
        "finished['Year'] = pd.DatetimeIndex(finished['InvoiceDate']).year"
      ],
      "id": "KD_5vCuGgcGh"
    },
    {
      "cell_type": "code",
      "execution_count": null,
      "metadata": {
        "colab": {
          "base_uri": "https://localhost:8080/"
        },
        "id": "abYLYa6Ngg7p",
        "outputId": "c5b64416-23d7-44aa-be95-fc5b054b6245"
      },
      "outputs": [
        {
          "data": {
            "text/plain": [
              "Year\n",
              "2009     31760\n",
              "2010    412624\n",
              "2011    379980\n",
              "Name: Invoice, dtype: int64"
            ]
          },
          "execution_count": 26,
          "metadata": {},
          "output_type": "execute_result"
        }
      ],
      "source": [
        "f = finished.groupby(['Year'])['Invoice'].count()\n",
        "f"
      ],
      "id": "abYLYa6Ngg7p"
    },
    {
      "cell_type": "code",
      "execution_count": null,
      "metadata": {
        "id": "qCoTN_aAdWws"
      },
      "outputs": [],
      "source": [
        "canceled['Year'] = pd.DatetimeIndex(cancel['InvoiceDate']).year"
      ],
      "id": "qCoTN_aAdWws"
    },
    {
      "cell_type": "code",
      "execution_count": null,
      "metadata": {
        "colab": {
          "base_uri": "https://localhost:8080/"
        },
        "id": "CZ67W8JqgPYN",
        "outputId": "bc6d568e-6ca9-461a-d0bf-f330929ae380"
      },
      "outputs": [
        {
          "data": {
            "text/plain": [
              "Year\n",
              "2009    1015\n",
              "2010    9919\n",
              "2011    8560\n",
              "Name: Invoice, dtype: int64"
            ]
          },
          "execution_count": 35,
          "metadata": {},
          "output_type": "execute_result"
        }
      ],
      "source": [
        "c = canceled.groupby(['Year'])['Invoice'].count()\n",
        "c"
      ],
      "id": "CZ67W8JqgPYN"
    },
    {
      "cell_type": "code",
      "execution_count": null,
      "metadata": {
        "colab": {
          "base_uri": "https://localhost:8080/",
          "height": 358
        },
        "id": "V8Kx76QFtxbn",
        "outputId": "6d609985-65b3-453a-d16f-e5ed5cd179a4"
      },
      "outputs": [
        {
          "data": {
            "image/png": "[encoded data removed]",
            "text/plain": [
              "<Figure size 720x360 with 2 Axes>"
            ]
          },
          "metadata": {},
          "output_type": "display_data"
        }
      ],
      "source": [
        "fig, ax=plt.subplots()\n",
        "x = ['2009','2010', '2011']\n",
        "y = f.unique()\n",
        "z = c.unique()\n",
        "Line1 = ax.plot(x, y, marker='.', color='royalblue', label='Finished')\n",
        "ax2 = ax.twinx()\n",
        "Line2 = ax2.plot(x, z, marker='.', color='#cc0000', label='Cancel')\n",
        "ax.set_title('Transaction')\n",
        "ax.set_ylabel('Finished')\n",
        "ax2.set_ylabel('Canceled')\n",
        "ax.set_xlabel('Year')\n",
        "plt.show()"
      ],
      "id": "V8Kx76QFtxbn"
    },
    {
      "cell_type": "markdown",
      "metadata": {
        "id": "158f85e3"
      },
      "source": [
        "### Cancellation Rate"
      ],
      "id": "158f85e3"
    },
    {
      "cell_type": "code",
      "execution_count": null,
      "metadata": {
        "colab": {
          "base_uri": "https://localhost:8080/"
        },
        "id": "hsf_yhCmpKDm",
        "outputId": "de95585c-e76f-470f-9e26-5b908beccafc"
      },
      "outputs": [
        {
          "data": {
            "text/plain": [
              "1.8263565339511754"
            ]
          },
          "execution_count": 52,
          "metadata": {},
          "output_type": "execute_result"
        }
      ],
      "source": [
        "cr = cancel['Invoice'].count()/df['Invoice'].count()*100\n",
        "cr"
      ],
      "id": "hsf_yhCmpKDm"
    },
    {
      "cell_type": "code",
      "execution_count": null,
      "metadata": {
        "colab": {
          "base_uri": "https://localhost:8080/"
        },
        "id": "ca8edaa1",
        "outputId": "6e995b32-8774-4978-ff8f-268e1f0cc00f"
      },
      "outputs": [
        {
          "data": {
            "text/plain": [
              "Year\n",
              "2009    2.244185\n",
              "2010    1.897596\n",
              "2011    1.713957\n",
              "Name: Invoice, dtype: float64"
            ]
          },
          "execution_count": 53,
          "metadata": {},
          "output_type": "execute_result"
        }
      ],
      "source": [
        "cancellation_rate = cancel.groupby(['Year'])['Invoice'].count()/df.groupby(['Year'])['Invoice'].count()*100\n",
        "cancellation_rate"
      ],
      "id": "ca8edaa1"
    },
    {
      "cell_type": "code",
      "execution_count": null,
      "metadata": {
        "colab": {
          "base_uri": "https://localhost:8080/",
          "height": 358
        },
        "id": "Jfeq7_FO3ZxW",
        "outputId": "98d12ad2-a42b-442e-8ef9-1b736fd59292"
      },
      "outputs": [
        {
          "data": {
            "image/png": "[encoded data removed]",
            "text/plain": [
              "<Figure size 720x360 with 1 Axes>"
            ]
          },
          "metadata": {},
          "output_type": "display_data"
        }
      ],
      "source": [
        "y = cancellation_rate.unique()\n",
        "fig, ax=plt.subplots()\n",
        "x = ['2009','2010','2011']\n",
        "plt.title('Cancellation Rate')\n",
        "plt.xlabel('Year')\n",
        "plt.ylabel('Cancellation Rate (%)')\n",
        "ax.plot(x,y, color = '#C8AE7E')\n",
        "plt.show()"
      ],
      "id": "Jfeq7_FO3ZxW"
    },
    {
      "cell_type": "markdown",
      "metadata": {
        "id": "8866bcd4"
      },
      "source": [
        "### Interpretation"
      ],
      "id": "8866bcd4"
    },
    {
      "cell_type": "markdown",
      "metadata": {
        "id": "09c84168"
      },
      "source": [
        "Jumlah transaksi yang terselesaikan di tahun 2009 sebanyak **31760**, kemudian naik 1199% di tahun 2010 dengan jumlah transaksi sebanyak **412624**. Slightly menurun di tahun 2011 dengan **379980** transaksi.\n",
        "\n",
        "Di tahun 2009 merupakan tahun yang memilikin *cancellation reate* paling tinggi, yaitu **2,2%**, dengan jumlah transaksi yang batal sebanyak **1015**. Terjadi penurunan *cancellation rate* pada tahun 2010, yaitu **1,9%**, dengan jumlah transaksi yang batal **9919**. Meskipun dari tahun 2009 ke tahun 2010 jumlah transaksi yang batal meningkat, namun total transaksi yang terselesaikan juga meningkat. Di tahun 2011, jumlah transaksi yang batal menurun, yaitu **8650** transaksi dan diikutin dengan cancellation rate yang juga menurun menjadi **1,7%**.\n",
        "\n",
        "Dalam kurun waktu 2009 hingga 2011, tingkat pembatalan transaksi terus menurun. Performa penjuaan terus membaik dibandingkan dengan yang terjadi pada tahun 2009.  \n",
        "\n"
      ],
      "id": "09c84168"
    }
  ],
  "metadata": {
    "colab": {
      "name": "Retail Company Sales Performance.ipynb",
      "provenance": []
    },
    "kernelspec": {
      "display_name": "Python 3 (ipykernel)",
      "language": "python",
      "name": "python3"
    },
    "language_info": {
      "codemirror_mode": {
        "name": "ipython",
        "version": 3
      },
      "file_extension": ".py",
      "mimetype": "text/x-python",
      "name": "python",
      "nbconvert_exporter": "python",
      "pygments_lexer": "ipython3",
      "version": "3.9.6"
    }
  },
  "nbformat": 4,
  "nbformat_minor": 5
}